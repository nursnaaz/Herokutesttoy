{
 "cells": [
  {
   "cell_type": "code",
   "execution_count": 1,
   "id": "b517d6b3",
   "metadata": {},
   "outputs": [
    {
     "name": "stdout",
     "output_type": "stream",
     "text": [
      "Requirement already satisfied: streamlit in /Users/mohamednoordeenalaudeen/opt/anaconda3/lib/python3.9/site-packages (1.20.0)\n",
      "Requirement already satisfied: cachetools>=4.0 in /Users/mohamednoordeenalaudeen/opt/anaconda3/lib/python3.9/site-packages (from streamlit) (5.3.0)\n",
      "Requirement already satisfied: altair<5,>=3.2.0 in /Users/mohamednoordeenalaudeen/opt/anaconda3/lib/python3.9/site-packages (from streamlit) (4.2.2)\n",
      "Requirement already satisfied: protobuf<4,>=3.12 in /Users/mohamednoordeenalaudeen/opt/anaconda3/lib/python3.9/site-packages (from streamlit) (3.20.3)\n",
      "Requirement already satisfied: validators>=0.2 in /Users/mohamednoordeenalaudeen/opt/anaconda3/lib/python3.9/site-packages (from streamlit) (0.20.0)\n",
      "Requirement already satisfied: importlib-metadata>=1.4 in /Users/mohamednoordeenalaudeen/opt/anaconda3/lib/python3.9/site-packages (from streamlit) (4.11.3)\n",
      "Requirement already satisfied: tornado>=6.0.3 in /Users/mohamednoordeenalaudeen/opt/anaconda3/lib/python3.9/site-packages (from streamlit) (6.1)\n",
      "Requirement already satisfied: pillow>=6.2.0 in /Users/mohamednoordeenalaudeen/opt/anaconda3/lib/python3.9/site-packages (from streamlit) (9.2.0)\n",
      "Requirement already satisfied: numpy in /Users/mohamednoordeenalaudeen/opt/anaconda3/lib/python3.9/site-packages (from streamlit) (1.22.4)\n",
      "Requirement already satisfied: typing-extensions>=3.10.0.0 in /Users/mohamednoordeenalaudeen/opt/anaconda3/lib/python3.9/site-packages (from streamlit) (4.3.0)\n",
      "Requirement already satisfied: pympler>=0.9 in /Users/mohamednoordeenalaudeen/opt/anaconda3/lib/python3.9/site-packages (from streamlit) (1.0.1)\n",
      "Requirement already satisfied: pandas<2,>=0.25 in /Users/mohamednoordeenalaudeen/opt/anaconda3/lib/python3.9/site-packages (from streamlit) (1.4.4)\n",
      "Requirement already satisfied: gitpython!=3.1.19 in /Users/mohamednoordeenalaudeen/opt/anaconda3/lib/python3.9/site-packages (from streamlit) (3.1.31)\n",
      "Requirement already satisfied: pydeck>=0.1.dev5 in /Users/mohamednoordeenalaudeen/opt/anaconda3/lib/python3.9/site-packages (from streamlit) (0.8.0)\n",
      "Requirement already satisfied: click>=7.0 in /Users/mohamednoordeenalaudeen/opt/anaconda3/lib/python3.9/site-packages (from streamlit) (8.0.4)\n",
      "Requirement already satisfied: requests>=2.4 in /Users/mohamednoordeenalaudeen/opt/anaconda3/lib/python3.9/site-packages (from streamlit) (2.28.1)\n",
      "Requirement already satisfied: pyarrow>=4.0 in /Users/mohamednoordeenalaudeen/opt/anaconda3/lib/python3.9/site-packages (from streamlit) (11.0.0)\n",
      "Requirement already satisfied: packaging>=14.1 in /Users/mohamednoordeenalaudeen/opt/anaconda3/lib/python3.9/site-packages (from streamlit) (21.3)\n",
      "Requirement already satisfied: tzlocal>=1.1 in /Users/mohamednoordeenalaudeen/opt/anaconda3/lib/python3.9/site-packages (from streamlit) (4.3)\n",
      "Requirement already satisfied: blinker>=1.0.0 in /Users/mohamednoordeenalaudeen/opt/anaconda3/lib/python3.9/site-packages (from streamlit) (1.5)\n",
      "Requirement already satisfied: semver in /Users/mohamednoordeenalaudeen/opt/anaconda3/lib/python3.9/site-packages (from streamlit) (2.13.0)\n",
      "Requirement already satisfied: python-dateutil in /Users/mohamednoordeenalaudeen/opt/anaconda3/lib/python3.9/site-packages (from streamlit) (2.8.2)\n",
      "Requirement already satisfied: toml in /Users/mohamednoordeenalaudeen/opt/anaconda3/lib/python3.9/site-packages (from streamlit) (0.10.2)\n",
      "Requirement already satisfied: rich>=10.11.0 in /Users/mohamednoordeenalaudeen/opt/anaconda3/lib/python3.9/site-packages (from streamlit) (13.3.2)\n",
      "Requirement already satisfied: entrypoints in /Users/mohamednoordeenalaudeen/opt/anaconda3/lib/python3.9/site-packages (from altair<5,>=3.2.0->streamlit) (0.4)\n",
      "Requirement already satisfied: jinja2 in /Users/mohamednoordeenalaudeen/opt/anaconda3/lib/python3.9/site-packages (from altair<5,>=3.2.0->streamlit) (2.11.3)\n",
      "Requirement already satisfied: toolz in /Users/mohamednoordeenalaudeen/opt/anaconda3/lib/python3.9/site-packages (from altair<5,>=3.2.0->streamlit) (0.11.2)\n",
      "Requirement already satisfied: jsonschema>=3.0 in /Users/mohamednoordeenalaudeen/opt/anaconda3/lib/python3.9/site-packages (from altair<5,>=3.2.0->streamlit) (4.16.0)\n",
      "Requirement already satisfied: gitdb<5,>=4.0.1 in /Users/mohamednoordeenalaudeen/opt/anaconda3/lib/python3.9/site-packages (from gitpython!=3.1.19->streamlit) (4.0.10)\n",
      "Requirement already satisfied: zipp>=0.5 in /Users/mohamednoordeenalaudeen/opt/anaconda3/lib/python3.9/site-packages (from importlib-metadata>=1.4->streamlit) (3.8.0)\n",
      "Requirement already satisfied: pyparsing!=3.0.5,>=2.0.2 in /Users/mohamednoordeenalaudeen/opt/anaconda3/lib/python3.9/site-packages (from packaging>=14.1->streamlit) (3.0.9)\n",
      "Requirement already satisfied: pytz>=2020.1 in /Users/mohamednoordeenalaudeen/opt/anaconda3/lib/python3.9/site-packages (from pandas<2,>=0.25->streamlit) (2022.1)\n",
      "Requirement already satisfied: six>=1.5 in /Users/mohamednoordeenalaudeen/opt/anaconda3/lib/python3.9/site-packages (from python-dateutil->streamlit) (1.16.0)\n",
      "Requirement already satisfied: idna<4,>=2.5 in /Users/mohamednoordeenalaudeen/opt/anaconda3/lib/python3.9/site-packages (from requests>=2.4->streamlit) (3.3)\n",
      "Requirement already satisfied: urllib3<1.27,>=1.21.1 in /Users/mohamednoordeenalaudeen/opt/anaconda3/lib/python3.9/site-packages (from requests>=2.4->streamlit) (1.26.11)\n",
      "Requirement already satisfied: charset-normalizer<3,>=2 in /Users/mohamednoordeenalaudeen/opt/anaconda3/lib/python3.9/site-packages (from requests>=2.4->streamlit) (2.0.4)\n",
      "Requirement already satisfied: certifi>=2017.4.17 in /Users/mohamednoordeenalaudeen/opt/anaconda3/lib/python3.9/site-packages (from requests>=2.4->streamlit) (2023.5.7)\n",
      "Requirement already satisfied: pygments<3.0.0,>=2.13.0 in /Users/mohamednoordeenalaudeen/opt/anaconda3/lib/python3.9/site-packages (from rich>=10.11.0->streamlit) (2.15.1)\n",
      "Requirement already satisfied: markdown-it-py<3.0.0,>=2.2.0 in /Users/mohamednoordeenalaudeen/opt/anaconda3/lib/python3.9/site-packages (from rich>=10.11.0->streamlit) (2.2.0)\n",
      "Requirement already satisfied: pytz-deprecation-shim in /Users/mohamednoordeenalaudeen/opt/anaconda3/lib/python3.9/site-packages (from tzlocal>=1.1->streamlit) (0.1.0.post0)\n",
      "Requirement already satisfied: decorator>=3.4.0 in /Users/mohamednoordeenalaudeen/opt/anaconda3/lib/python3.9/site-packages (from validators>=0.2->streamlit) (5.1.1)\n",
      "Requirement already satisfied: smmap<6,>=3.0.1 in /Users/mohamednoordeenalaudeen/opt/anaconda3/lib/python3.9/site-packages (from gitdb<5,>=4.0.1->gitpython!=3.1.19->streamlit) (5.0.0)\n",
      "Requirement already satisfied: MarkupSafe>=0.23 in /Users/mohamednoordeenalaudeen/opt/anaconda3/lib/python3.9/site-packages (from jinja2->altair<5,>=3.2.0->streamlit) (2.0.1)\n",
      "Requirement already satisfied: pyrsistent!=0.17.0,!=0.17.1,!=0.17.2,>=0.14.0 in /Users/mohamednoordeenalaudeen/opt/anaconda3/lib/python3.9/site-packages (from jsonschema>=3.0->altair<5,>=3.2.0->streamlit) (0.18.0)\n",
      "Requirement already satisfied: attrs>=17.4.0 in /Users/mohamednoordeenalaudeen/opt/anaconda3/lib/python3.9/site-packages (from jsonschema>=3.0->altair<5,>=3.2.0->streamlit) (21.4.0)\n",
      "Requirement already satisfied: mdurl~=0.1 in /Users/mohamednoordeenalaudeen/opt/anaconda3/lib/python3.9/site-packages (from markdown-it-py<3.0.0,>=2.2.0->rich>=10.11.0->streamlit) (0.1.2)\n",
      "Requirement already satisfied: tzdata in /Users/mohamednoordeenalaudeen/opt/anaconda3/lib/python3.9/site-packages (from pytz-deprecation-shim->tzlocal>=1.1->streamlit) (2022.7)\n"
     ]
    }
   ],
   "source": [
    "!pip install streamlit"
   ]
  },
  {
   "cell_type": "code",
   "execution_count": 1,
   "id": "2e6eca47",
   "metadata": {},
   "outputs": [],
   "source": [
    "import streamlit as st"
   ]
  },
  {
   "cell_type": "code",
   "execution_count": 2,
   "id": "659c07fd",
   "metadata": {},
   "outputs": [
    {
     "name": "stderr",
     "output_type": "stream",
     "text": [
      "2023-08-26 09:19:45.317 \n",
      "  \u001b[33m\u001b[1mWarning:\u001b[0m to view this Streamlit app on a browser, run it with the following\n",
      "  command:\n",
      "\n",
      "    streamlit run /Users/mohamednoordeenalaudeen/opt/anaconda3/lib/python3.9/site-packages/ipykernel_launcher.py [ARGUMENTS]\n"
     ]
    },
    {
     "data": {
      "text/plain": [
       "DeltaGenerator(_root_container=0, _provided_cursor=None, _parent=None, _block_type=None, _form_data=None)"
      ]
     },
     "execution_count": 2,
     "metadata": {},
     "output_type": "execute_result"
    }
   ],
   "source": [
    "st.title(\"Car Price Prediction - Toy Example\")"
   ]
  },
  {
   "cell_type": "code",
   "execution_count": null,
   "id": "f595392d",
   "metadata": {},
   "outputs": [],
   "source": [
    "    'name':['maruti','honda','maruti','toyota','honda','toyota'],\n",
    "    'fuel_type':['petrol','diesel','petrol','diesel','petrol','diesel'],\n",
    "    'km_driven' :[2000,4000,100,6344,1234,np.NaN],\n",
    "    'price' :[200000,400000,424232,800000,500000,900000]"
   ]
  }
 ],
 "metadata": {
  "kernelspec": {
   "display_name": "Python 3 (ipykernel)",
   "language": "python",
   "name": "python3"
  },
  "language_info": {
   "codemirror_mode": {
    "name": "ipython",
    "version": 3
   },
   "file_extension": ".py",
   "mimetype": "text/x-python",
   "name": "python",
   "nbconvert_exporter": "python",
   "pygments_lexer": "ipython3",
   "version": "3.9.13"
  }
 },
 "nbformat": 4,
 "nbformat_minor": 5
}
